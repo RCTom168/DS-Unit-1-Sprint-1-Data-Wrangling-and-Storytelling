{
  "nbformat": 4,
  "nbformat_minor": 0,
  "metadata": {
    "kernelspec": {
      "display_name": "Python 3",
      "language": "python",
      "name": "python3"
    },
    "language_info": {
      "codemirror_mode": {
        "name": "ipython",
        "version": 3
      },
      "file_extension": ".py",
      "mimetype": "text/x-python",
      "name": "python",
      "nbconvert_exporter": "python",
      "pygments_lexer": "ipython3",
      "version": "3.7.3"
    },
    "colab": {
      "name": "RT Copy of LS_DS_121_Statistics_Probability_Assignment.ipynb",
      "provenance": [],
      "collapsed_sections": [],
      "include_colab_link": true
    }
  },
  "cells": [
    {
      "cell_type": "markdown",
      "metadata": {
        "id": "view-in-github",
        "colab_type": "text"
      },
      "source": [
        "<a href=\"https://colab.research.google.com/github/RCTom168/DS-Unit-1-Sprint-1-Data-Wrangling-and-Storytelling/blob/master/RT_Copy_of_LS_DS_121_Statistics_Probability_Assignment.ipynb\" target=\"_parent\"><img src=\"https://colab.research.google.com/assets/colab-badge.svg\" alt=\"Open In Colab\"/></a>"
      ]
    },
    {
      "cell_type": "markdown",
      "metadata": {
        "id": "Sa5KWMO1ngPN",
        "colab_type": "text"
      },
      "source": [
        "<img align=\"left\" src=\"https://lever-client-logos.s3.amazonaws.com/864372b1-534c-480e-acd5-9711f850815c-1524247202159.png\" width=200>\n",
        "<br></br>\n",
        "<br></br>\n",
        "\n",
        "## *Data Science Unit 1 Sprint 2 Assignment 1*\n",
        "\n",
        "# Apply the t-test to real data\n",
        "\n",
        "Your assignment is to determine which issues have \"statistically significant\" differences between political parties in this [1980s congressional voting data](https://archive.ics.uci.edu/ml/datasets/Congressional+Voting+Records). The data consists of 435 instances (one for each congressperson), a class (democrat or republican), and 16 binary attributes (yes or no for voting for or against certain issues). Be aware - there are missing values!\n",
        "\n",
        "Your goals:\n",
        "\n",
        "1. Load and clean the data (or determine the best method to drop observations when running tests)\n",
        "2. Using hypothesis testing, find an issue that democrats support more than republicans with p < 0.01\n",
        "3. Using hypothesis testing, find an issue that republicans support more than democrats with p < 0.01\n",
        "4. Using hypothesis testing, find an issue where the difference between republicans and democrats has p > 0.1 (i.e. there may not be much of a difference)\n",
        "\n",
        "Note that this data will involve *2 sample* t-tests, because you're comparing averages across two groups (republicans and democrats) rather than a single group against a null hypothesis.\n",
        "\n",
        "Stretch goals:\n",
        "\n",
        "1. Refactor your code into functions so it's easy to rerun with arbitrary variables\n",
        "2. Apply hypothesis testing to your personal project data (for the purposes of this notebook you can type a summary of the hypothesis you formed and tested)"
      ]
    },
    {
      "cell_type": "code",
      "metadata": {
        "id": "ZKwspo2CngPP",
        "colab_type": "code",
        "outputId": "9743f243-a185-4534-8632-70291b86b678",
        "colab": {
          "base_uri": "https://localhost:8080/",
          "height": 212
        }
      },
      "source": [
        "### YOUR CODE STARTS \n",
        "\n",
        "# First let's pull the data for the 1980s congressional voting records.\n",
        "!wget https://archive.ics.uci.edu/ml/datasets/Congressional+Voting+Records"
      ],
      "execution_count": 1,
      "outputs": [
        {
          "output_type": "stream",
          "text": [
            "--2019-12-10 21:35:53--  https://archive.ics.uci.edu/ml/datasets/Congressional+Voting+Records\n",
            "Resolving archive.ics.uci.edu (archive.ics.uci.edu)... 128.195.10.252\n",
            "Connecting to archive.ics.uci.edu (archive.ics.uci.edu)|128.195.10.252|:443... connected.\n",
            "HTTP request sent, awaiting response... 200 OK\n",
            "Length: unspecified [text/html]\n",
            "Saving to: ‘Congressional+Voting+Records’\n",
            "\n",
            "Congressional+Votin     [ <=>                ]  21.70K  --.-KB/s    in 0.1s    \n",
            "\n",
            "2019-12-10 21:35:54 (169 KB/s) - ‘Congressional+Voting+Records’ saved [22222]\n",
            "\n"
          ],
          "name": "stdout"
        }
      ]
    },
    {
      "cell_type": "code",
      "metadata": {
        "id": "aySzsJSZus8T",
        "colab_type": "code",
        "colab": {}
      },
      "source": [
        "import pandas as pd\n",
        "import numpy as np\n",
        "import seaborn as sns\n",
        "import scipy.stats # A very powerful library for statistics\n",
        "\n",
        "# Let's load up the information\n",
        "# From the data folder located on the website, we will pull the data file up\n",
        "# There is no header, so we will need to compensate for that with header = None\n",
        "# We will need to add in the column header names from the names file\n",
        "df = pd.read_csv('https://archive.ics.uci.edu/ml/machine-learning-databases/voting-records/house-votes-84.data', \n",
        "  header=None, names=['Party','Handicapped Infants','Water Project Cost Sharing',\n",
        "    'Adoption of the Budget Resolution','Physician Fee Freeze', 'El-Salvador Aid',\n",
        "    'Religious Groups in Schools','Anti-Satellite Test Ban',\n",
        "    'Aid to Nicaraguan Contras','MX-Missile','Immigration',\n",
        "    'Synfuels Corporation Cutback', 'Education Spending',\n",
        "    'Superfund Right to Sue','Crime','Duty-Free Exports',\n",
        "    'Export Administration Act South Africa'])\n",
        "print(df.shape)\n",
        "df.head()"
      ],
      "execution_count": 0,
      "outputs": []
    },
    {
      "cell_type": "code",
      "metadata": {
        "id": "3nofm6UA4QsJ",
        "colab_type": "code",
        "colab": {}
      },
      "source": [
        "# Now we can clean up the data\n",
        "# The Index states that missing attribute valeus are denoted by \"?\". We can\n",
        "# replace this with NaN\n",
        "# We can replace n, (which represents No) with 0 and y (which represents yes) with 1\n",
        "df = df.replace({'?':np.NaN, 'n':0, 'y':1})\n",
        "df.head()"
      ],
      "execution_count": 0,
      "outputs": []
    },
    {
      "cell_type": "code",
      "metadata": {
        "id": "8HPHj-HC_RAF",
        "colab_type": "code",
        "colab": {}
      },
      "source": [
        "# Statistical breakdown of the whole dataframe\n",
        "df.describe()"
      ],
      "execution_count": 0,
      "outputs": []
    },
    {
      "cell_type": "code",
      "metadata": {
        "id": "8HinbtHe7o7S",
        "colab_type": "code",
        "colab": {}
      },
      "source": [
        "# Since we are looking at issues from democractic and republic views, we will filter the dataframe\n",
        "# Into a democrat and a republican dataframe\n",
        "dem = df[df['Party']=='democrat']\n",
        "rep = df[df['Party'] == 'republican']"
      ],
      "execution_count": 0,
      "outputs": []
    },
    {
      "cell_type": "code",
      "metadata": {
        "id": "a6XGxkUf8TQH",
        "colab_type": "code",
        "colab": {}
      },
      "source": [
        "# The Democrat dataframe\n",
        "dem.head()"
      ],
      "execution_count": 0,
      "outputs": []
    },
    {
      "cell_type": "code",
      "metadata": {
        "id": "TH8K3oik8YVU",
        "colab_type": "code",
        "colab": {}
      },
      "source": [
        "# The Republican dataframe\n",
        "rep.head()"
      ],
      "execution_count": 0,
      "outputs": []
    },
    {
      "cell_type": "code",
      "metadata": {
        "id": "neacP-ue_v3J",
        "colab_type": "code",
        "colab": {}
      },
      "source": [
        "# Statistical breakdown of the Democrat Dataframe\n",
        "dem.describe()"
      ],
      "execution_count": 0,
      "outputs": []
    },
    {
      "cell_type": "code",
      "metadata": {
        "id": "gYk8-To5_x5w",
        "colab_type": "code",
        "colab": {}
      },
      "source": [
        "# Statistical breakdown of the Republican dataframe\n",
        "rep.describe()"
      ],
      "execution_count": 0,
      "outputs": []
    },
    {
      "cell_type": "code",
      "metadata": {
        "id": "kf7lKdBU8dyb",
        "colab_type": "code",
        "colab": {}
      },
      "source": [
        "# Checking for NaN\n",
        "# Looks like we have NaN\n",
        "df.isnull().values.any()"
      ],
      "execution_count": 0,
      "outputs": []
    },
    {
      "cell_type": "code",
      "metadata": {
        "id": "fOlrrXD19Yps",
        "colab_type": "code",
        "colab": {}
      },
      "source": [
        "# Locating the amount of NaN values in each column in order\n",
        "df.isnull().sum()"
      ],
      "execution_count": 0,
      "outputs": []
    },
    {
      "cell_type": "code",
      "metadata": {
        "id": "9meKRGtP9aeR",
        "colab_type": "code",
        "colab": {}
      },
      "source": [
        "# Measuring which columns have the most NaN values\n",
        "df.isnull().sum().sort_values()"
      ],
      "execution_count": 0,
      "outputs": []
    },
    {
      "cell_type": "code",
      "metadata": {
        "id": "6Jn6nSvyDlQ3",
        "colab_type": "code",
        "colab": {}
      },
      "source": [
        "# NaNs in the Republican Dataframe\n",
        "rep.isnull().sum().sort_values()"
      ],
      "execution_count": 0,
      "outputs": []
    },
    {
      "cell_type": "code",
      "metadata": {
        "id": "tBT90A4nDs-r",
        "colab_type": "code",
        "colab": {}
      },
      "source": [
        "# Nans in the Democratic Dataframe\n",
        "dem.isnull().sum().sort_values()"
      ],
      "execution_count": 0,
      "outputs": []
    },
    {
      "cell_type": "code",
      "metadata": {
        "id": "hYgBcUtpGqfz",
        "colab_type": "code",
        "colab": {}
      },
      "source": [
        "# Using hypothesis testing, find an issue that democrats support more than \n",
        "# republicans with p < 0.01\n",
        "from scipy.stats import ttest_1samp\n",
        "# ttest_tsamp is used to calculate the T-test for the mean of ONE group of scores\n",
        "# Let's work with the Handicapped Infants voting data\n",
        "# Null Hypothesis: There is no Democratic support for the Handicapped Infants\n",
        "# Because the pvalue of 5.434587970316366 e-09 is < 0.01, we reject the Null Hypothesis\n",
        "ttest_1samp(rep['Handicapped Infants'], 0, nan_policy='omit')"
      ],
      "execution_count": 0,
      "outputs": []
    },
    {
      "cell_type": "code",
      "metadata": {
        "id": "hL0LQqFcIa_Q",
        "colab_type": "code",
        "colab": {}
      },
      "source": [
        "from scipy.stats import ttest_ind\n",
        "ttest_ind(rep['Handicapped Infants'], dem['Handicapped Infants'], nan_policy='omit')"
      ],
      "execution_count": 0,
      "outputs": []
    },
    {
      "cell_type": "code",
      "metadata": {
        "id": "fhpFr9DDTknU",
        "colab_type": "code",
        "colab": {}
      },
      "source": [
        "rep['Handicapped Infants'].mean()"
      ],
      "execution_count": 0,
      "outputs": []
    },
    {
      "cell_type": "code",
      "metadata": {
        "id": "ZuE43YRGTtLo",
        "colab_type": "code",
        "colab": {}
      },
      "source": [
        "# Given that the Dem mean of 0.6046511627906976 > the Rep mean of 0.18787878787878787, \n",
        "# more democrats support Handicapped Infants than Republicans.\n",
        "dem['Handicapped Infants'].mean()"
      ],
      "execution_count": 0,
      "outputs": []
    },
    {
      "cell_type": "code",
      "metadata": {
        "id": "WdSCYqRQVpf_",
        "colab_type": "code",
        "colab": {}
      },
      "source": [
        "# Using hypothesis testing, find an issue that republicans support more than \n",
        "# democrats with p < 0.01\n",
        "from scipy.stats import ttest_1samp\n",
        "# ttest_tsamp is used to calculate the T-test for the mean of ONE group of scores\n",
        "# Let's work with the Religious Groups in Schools voting data\n",
        "# Null Hypothesis: There is no Democratic support for the Religious Groups in Schools\n",
        "# Because the pvalue of 1.4751069893318224 e-83 is < 0.01, we reject the Null Hypothesis\n",
        "ttest_1samp(rep['Religious Groups in Schools'], 0, nan_policy='omit')"
      ],
      "execution_count": 0,
      "outputs": []
    },
    {
      "cell_type": "code",
      "metadata": {
        "id": "L89Ak6USVo80",
        "colab_type": "code",
        "colab": {}
      },
      "source": [
        "ttest_ind(rep['Religious Groups in Schools'], dem['Religious Groups in Schools'], nan_policy='omit')"
      ],
      "execution_count": 0,
      "outputs": []
    },
    {
      "cell_type": "code",
      "metadata": {
        "id": "bHWS32cpW1E9",
        "colab_type": "code",
        "colab": {}
      },
      "source": [
        "# Given that the Rep mean of 0.8975903614457831 > the Dem mean of 0.47674418604651164, \n",
        "# more democrats support Handicapped Infants than Republicans.\n",
        "rep['Religious Groups in Schools'].mean()"
      ],
      "execution_count": 0,
      "outputs": []
    },
    {
      "cell_type": "code",
      "metadata": {
        "id": "TDaDb0TSVn2o",
        "colab_type": "code",
        "colab": {}
      },
      "source": [
        "dem['Religious Groups in Schools'].mean()"
      ],
      "execution_count": 0,
      "outputs": []
    },
    {
      "cell_type": "code",
      "metadata": {
        "id": "dGrxgdz5XEZO",
        "colab_type": "code",
        "colab": {
          "base_uri": "https://localhost:8080/",
          "height": 35
        },
        "outputId": "9e3fd0bb-b7bd-4a8d-fe5f-bfc3f01050b3"
      },
      "source": [
        "#Using hypothesis testing, find an issue where the difference between republicans\n",
        "# and democrats has p > 0.1 (i.e. there may not be much of a difference)\n",
        "from scipy.stats import ttest_1samp\n",
        "# ttest_tsamp is used to calculate the T-test for the mean of ONE group of scores\n",
        "# Let's work with the Water Project Cost Sharing voting data\n",
        "# Null Hypothesis #1: There is no Democratic support for the Water Project Cost \n",
        "# Because the pvalue of 6.633846650320544 e-38 is < 0.01 , we reject the Null Hypothesis\n",
        "ttest_1samp(dem['Water Project Cost Sharing'], 0, nan_policy='omit')"
      ],
      "execution_count": 25,
      "outputs": [
        {
          "output_type": "execute_result",
          "data": {
            "text/plain": [
              "Ttest_1sampResult(statistic=15.49193338482967, pvalue=6.633846650320544e-38)"
            ]
          },
          "metadata": {
            "tags": []
          },
          "execution_count": 25
        }
      ]
    },
    {
      "cell_type": "code",
      "metadata": {
        "id": "Tw9COKq5XbXC",
        "colab_type": "code",
        "colab": {
          "base_uri": "https://localhost:8080/",
          "height": 35
        },
        "outputId": "7ee02f93-aff8-4a2a-f47d-82baf885b962"
      },
      "source": [
        "# Null Hypothesis #2: There is no Republican support for the Water Project Cost Sharing\n",
        "# Because the pvalue of 2.525482675130834 e-24 is < 0.01 , we reject the Null Hypothesis\n",
        "ttest_1samp(rep['Water Project Cost Sharing'], 0, nan_policy='omit')"
      ],
      "execution_count": 26,
      "outputs": [
        {
          "output_type": "execute_result",
          "data": {
            "text/plain": [
              "Ttest_1sampResult(statistic=12.28932045559371, pvalue=2.525482675130834e-24)"
            ]
          },
          "metadata": {
            "tags": []
          },
          "execution_count": 26
        }
      ]
    },
    {
      "cell_type": "code",
      "metadata": {
        "id": "1hmzeTCFXEMM",
        "colab_type": "code",
        "outputId": "97c30b01-a9e3-468c-a917-55aa22f129dc",
        "colab": {
          "base_uri": "https://localhost:8080/",
          "height": 35
        }
      },
      "source": [
        "ttest_ind(rep['Water Project Cost Sharing'], dem['Water Project Cost Sharing'], nan_policy='omit')\n",
        "# Null Hypothesis # 3: There is no significant different between the support for\n",
        "# the Water Project Cost Sharing between Republicans and Democrats"
      ],
      "execution_count": 0,
      "outputs": [
        {
          "output_type": "execute_result",
          "data": {
            "text/plain": [
              "Ttest_indResult(statistic=0.08896538137868286, pvalue=0.9291556823993485)"
            ]
          },
          "metadata": {
            "tags": []
          },
          "execution_count": 79
        }
      ]
    },
    {
      "cell_type": "code",
      "metadata": {
        "id": "J66HmhFmXQ7D",
        "colab_type": "code",
        "outputId": "aa87e79f-0eed-471a-e20b-d58ddeea6906",
        "colab": {
          "base_uri": "https://localhost:8080/",
          "height": 35
        }
      },
      "source": [
        "rep['Water Project Cost Sharing'].mean()"
      ],
      "execution_count": 0,
      "outputs": [
        {
          "output_type": "execute_result",
          "data": {
            "text/plain": [
              "0.5067567567567568"
            ]
          },
          "metadata": {
            "tags": []
          },
          "execution_count": 80
        }
      ]
    },
    {
      "cell_type": "code",
      "metadata": {
        "id": "VDi7lJ4RXUoA",
        "colab_type": "code",
        "outputId": "da95642d-07e2-4687-de3d-c1207ccd8af4",
        "colab": {
          "base_uri": "https://localhost:8080/",
          "height": 35
        }
      },
      "source": [
        "dem['Water Project Cost Sharing'].mean()"
      ],
      "execution_count": 0,
      "outputs": [
        {
          "output_type": "execute_result",
          "data": {
            "text/plain": [
              "0.502092050209205"
            ]
          },
          "metadata": {
            "tags": []
          },
          "execution_count": 81
        }
      ]
    },
    {
      "cell_type": "code",
      "metadata": {
        "id": "95zH3cUsxtNT",
        "colab_type": "code",
        "colab": {}
      },
      "source": [
        "# The p value of 0.9291556823993485 > 0.1, and the means of the Republicans and\n",
        "# Democrats have no significant difference between them. There is no significant\n",
        "# difference between the support for the Water Project Cost Sharing between \n",
        "# Republicans and Democrats"
      ],
      "execution_count": 0,
      "outputs": []
    }
  ]
}